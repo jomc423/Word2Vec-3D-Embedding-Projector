{
 "cells": [
  {
   "cell_type": "markdown",
   "metadata": {},
   "source": [
    "## Venezuela Word2Vec Example"
   ]
  },
  {
   "cell_type": "code",
   "execution_count": 1,
   "metadata": {},
   "outputs": [],
   "source": [
    "import gensim"
   ]
  },
  {
   "cell_type": "markdown",
   "metadata": {},
   "source": [
    "Next we will load the word2vec model, Google News"
   ]
  },
  {
   "cell_type": "code",
   "execution_count": 2,
   "metadata": {},
   "outputs": [],
   "source": [
    "model = gensim.models.KeyedVectors.load_word2vec_format('./GoogleNews-vectors-negative300.bin', binary=True)"
   ]
  },
  {
   "cell_type": "markdown",
   "metadata": {},
   "source": [
    "Next, we want the result vector of 15 words most similar to \"Venezuela\" and then displayed in columns. You can change 15 to however many data points you want displayed."
   ]
  },
  {
   "cell_type": "code",
   "execution_count": 3,
   "metadata": {
    "scrolled": true
   },
   "outputs": [
    {
     "name": "stdout",
     "output_type": "stream",
     "text": [
      "  Venezuelan  0.826737\n",
      "     Bolivia  0.745722\n",
      "     Ecuador  0.719962\n",
      "    Colombia  0.696936\n",
      "      Chávez  0.689667\n",
      "      Chavez  0.686324\n",
      "   Nicaragua  0.681040\n",
      "  Vene_zuela  0.680571\n",
      " Venezuelans  0.677943\n",
      "   Venezuala  0.674734\n",
      "    Venzuela  0.672085\n",
      "        Cuba  0.670436\n",
      "    Venezula  0.664404\n",
      "     Caracas  0.664318\n",
      "   Venezeula  0.661068\n"
     ]
    }
   ],
   "source": [
    "import pandas as pd\n",
    "result = model.most_similar (positive=['Venezuela'],topn=15)\n",
    "\n",
    "df = pd.DataFrame(result)\n",
    "df_fixed = df.to_string(index=False, header=False)\n",
    "print(df_fixed)"
   ]
  },
  {
   "cell_type": "markdown",
   "metadata": {},
   "source": [
    "With that result, we need to fit and transform the data "
   ]
  },
  {
   "cell_type": "code",
   "execution_count": 4,
   "metadata": {},
   "outputs": [],
   "source": [
    "from sklearn.decomposition import PCA\n",
    "import numpy as np\n",
    "\n",
    "X = {}\n",
    "labels=[]\n",
    "\n",
    "for item in result:\n",
    "    key = item[0]\n",
    "    X[key] = model.vocab[key]\n",
    "    labels.append(key)\n",
    "                          \n",
    "X = model[X]\n",
    "\n",
    "pca = PCA(n_components=3)\n",
    "result = pca.fit_transform(X)"
   ]
  },
  {
   "cell_type": "code",
   "execution_count": 5,
   "metadata": {},
   "outputs": [
    {
     "name": "stdout",
     "output_type": "stream",
     "text": [
      "(15, 3)\n"
     ]
    }
   ],
   "source": [
    "# Check that your result returns the right shape\n",
    "print(result.shape)\n",
    "# You should get 15 (or whatever topn was equal to) data points and 3-dimensions"
   ]
  },
  {
   "cell_type": "markdown",
   "metadata": {},
   "source": [
    "Next, we want to set up that data for the 3D visualization. First we need to create a metadata file and put our data into it."
   ]
  },
  {
   "cell_type": "code",
   "execution_count": 6,
   "metadata": {},
   "outputs": [],
   "source": [
    "import os\n",
    "import tensorflow as tf\n",
    "from tensorflow.contrib.tensorboard.plugins import projector\n",
    "# Un-comment out the next two lines, if the last cell has an issue with renaming the files\n",
    "# This might happen when you re-run all of the cells\n",
    "#import shutil\n",
    "#shutil.rmtree('C:\\\\Users\\josie\\logs') \n",
    "\n",
    "LOG_DIR = 'logs'\n",
    "metadata = os.path.join(LOG_DIR, 'metadata.tsv')\n",
    "\n",
    "images = tf.Variable(result)"
   ]
  },
  {
   "cell_type": "code",
   "execution_count": 7,
   "metadata": {},
   "outputs": [],
   "source": [
    "# Writes a metadata file, labels the points that are projected\n",
    "with open(metadata,'w', encoding=\"utf-8\") as f:\n",
    "    f.write (\"\\\"Index\\\"\\t\\\"Label\\\"\\n\")\n",
    "    \n",
    "    c = 0\n",
    "    for label in labels:\n",
    "        text = str(c) + \"\\t\" + '\"' + label + '\"' + \"\\n\"\n",
    "        f.write (text)\n",
    "        c = c +1"
   ]
  },
  {
   "cell_type": "code",
   "execution_count": 9,
   "metadata": {
    "scrolled": false
   },
   "outputs": [],
   "source": [
    "# Saves the files and configures embedding projector\n",
    "with tf.Session() as sess:\n",
    "    saver = tf.train.Saver([images])\n",
    "\n",
    "    sess.run(images.initializer)\n",
    "    saver.save(sess, os.path.join(LOG_DIR, 'images.ckpt'))\n",
    "\n",
    "    config = projector.ProjectorConfig()\n",
    "    embedding = config.embeddings.add()\n",
    "    embedding.tensor_name = images.name\n",
    "    embedding.metadata_path = 'metadata.tsv'\n",
    "    projector.visualize_embeddings(tf.summary.FileWriter(LOG_DIR), config)"
   ]
  },
  {
   "cell_type": "markdown",
   "metadata": {},
   "source": [
    "You can open your metadata file with your notepad to check it configured correctly. You should see the headers \"Index\" and \"Label\" with their corresponding values"
   ]
  },
  {
   "cell_type": "code",
   "execution_count": 10,
   "metadata": {},
   "outputs": [],
   "source": [
    "# In a terminal opened from your Anaconda environment, run tensorboard --logdir=logs --host localhost\n",
    "# Once that runs, open http://localhost:6006/ on your web browser"
   ]
  }
 ],
 "metadata": {
  "kernelspec": {
   "display_name": "Python 3",
   "language": "python",
   "name": "python3"
  },
  "language_info": {
   "codemirror_mode": {
    "name": "ipython",
    "version": 3
   },
   "file_extension": ".py",
   "mimetype": "text/x-python",
   "name": "python",
   "nbconvert_exporter": "python",
   "pygments_lexer": "ipython3",
   "version": "3.7.5"
  }
 },
 "nbformat": 4,
 "nbformat_minor": 2
}
